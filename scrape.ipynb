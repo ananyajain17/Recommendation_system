{
 "cells": [
  {
   "cell_type": "code",
   "execution_count": null,
   "metadata": {},
   "outputs": [],
   "source": [
    "!pip install requests beautifulsoup4 pillow"
   ]
  },
  {
   "cell_type": "code",
   "execution_count": null,
   "metadata": {},
   "outputs": [],
   "source": [
    "import requests\n",
    "from bs4 import BeautifulSoup\n",
    "from PIL import Image\n",
    "from io import BytesIO\n",
    "import os\n",
    "\n",
    "# Function to scrape fashion blogs\n",
    "def scrape_fashion_blogs():\n",
    "    url = \"https://www.vogue.co.uk/article/spring-summer-2024-fashion-trends\"\n",
    "    response = requests.get(url)\n",
    "    soup = BeautifulSoup(response.text, 'html.parser')\n",
    "    images = []\n",
    "    for img in soup.find_all('img'):\n",
    "        img_url = img['src']\n",
    "        if img_url:\n",
    "            images.append(img_url)\n",
    "            print(f\"Fashion Blog Image URL: {img_url}\")  # Debugging line\n",
    "    return images\n",
    "\n",
    "# Function to save images\n",
    "def save_images(image_urls, folder='fashion_trends_images'):\n",
    "    if not os.path.exists(folder):\n",
    "        os.makedirs(folder)\n",
    "    for i, url in enumerate(image_urls):\n",
    "        try:\n",
    "            response = requests.get(url)\n",
    "            img = Image.open(BytesIO(response.content))\n",
    "            img.save(os.path.join(folder, f'image_{i}.jpg'))\n",
    "            print(f\"Saved Image: {os.path.join(folder, f'image_{i}.jpg')}\")  # Debugging line\n",
    "        except Exception as e:\n",
    "            print(f\"Could not save image {url}. Error: {e}\")\n",
    "\n",
    "# Main function to execute the script\n",
    "if __name__ == \"__main__\":\n",
    "    fashion_blog_images = scrape_fashion_blogs()\n",
    "\n",
    "    save_images(fashion_blog_images)\n",
    "    print(\"Fashion blog images saved successfully!\")"
   ]
  }
 ],
 "metadata": {
  "language_info": {
   "name": "python"
  }
 },
 "nbformat": 4,
 "nbformat_minor": 2
}
